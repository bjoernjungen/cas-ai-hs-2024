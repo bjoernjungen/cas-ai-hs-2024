{
  "cells": [
    {
      "metadata": {
        "id": "8a77807f92f26ee"
      },
      "cell_type": "markdown",
      "source": [
        "# This is a sample Jupyter Notebook\n",
        "\n",
        "Below is an example of a code cell.\n",
        "Put your cursor into the cell and press Shift+Enter to execute it and select the next one, or click 'Run Cell' button.\n",
        "\n",
        "Press Double Shift to search everywhere for classes, files, tool windows, actions, and settings.\n",
        "\n",
        "To learn more about Jupyter Notebooks in PyCharm, see [help](https://www.jetbrains.com/help/pycharm/ipython-notebook-support.html).\n",
        "For an overview of PyCharm, go to Help -> Learn IDE features or refer to [our documentation](https://www.jetbrains.com/help/pycharm/getting-started.html)."
      ],
      "id": "8a77807f92f26ee"
    },
    {
      "metadata": {
        "ExecuteTime": {
          "end_time": "2024-12-17T14:00:37.483657Z",
          "start_time": "2024-12-17T14:00:37.478730Z"
        },
        "id": "fbc121e30a2defb3",
        "outputId": "549374a9-e10d-4ba5-aff0-91e095b45825"
      },
      "cell_type": "code",
      "source": [
        "print(\"Hello World!\")\n"
      ],
      "id": "fbc121e30a2defb3",
      "outputs": [
        {
          "name": "stdout",
          "output_type": "stream",
          "text": [
            "Hello World!\n"
          ]
        }
      ],
      "execution_count": null
    },
    {
      "metadata": {
        "ExecuteTime": {
          "end_time": "2024-12-17T14:00:38.080068Z",
          "start_time": "2024-12-17T14:00:38.077570Z"
        },
        "id": "2130c7ef59c54a6",
        "outputId": "4f09d014-6050-43ba-8f49-7e96f4ccbff8",
        "colab": {
          "base_uri": "https://localhost:8080/"
        }
      },
      "cell_type": "code",
      "source": [
        "print(\"Hello World!2\")"
      ],
      "id": "2130c7ef59c54a6",
      "outputs": [
        {
          "output_type": "stream",
          "name": "stdout",
          "text": [
            "Hello World!2\n"
          ]
        }
      ],
      "execution_count": 1
    }
  ],
  "metadata": {
    "kernelspec": {
      "display_name": "Python 3",
      "language": "python",
      "name": "python3"
    },
    "language_info": {
      "codemirror_mode": {
        "name": "ipython",
        "version": 2
      },
      "file_extension": ".py",
      "mimetype": "text/x-python",
      "name": "python",
      "nbconvert_exporter": "python",
      "pygments_lexer": "ipython2",
      "version": "2.7.6"
    },
    "colab": {
      "provenance": []
    }
  },
  "nbformat": 4,
  "nbformat_minor": 5
}